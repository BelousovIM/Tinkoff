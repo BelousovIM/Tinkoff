{
 "cells": [
  {
   "cell_type": "markdown",
   "metadata": {},
   "source": [
    "# Tinkoff"
   ]
  },
  {
   "cell_type": "markdown",
   "metadata": {},
   "source": [
    "## 1"
   ]
  },
  {
   "cell_type": "code",
   "execution_count": null,
   "metadata": {},
   "outputs": [],
   "source": [
    "a = input().split()\n",
    "b = input().split()\n",
    "\n",
    "if set(a).intersection(set(b)):\n",
    "    if a[0] in b:\n",
    "        a = a[::-1]\n",
    "    if b[0] != a[-1]:\n",
    "        b = b[::-1]\n",
    "    print(' '.join(a + b))     \n",
    "else:\n",
    "    print(-1)"
   ]
  },
  {
   "cell_type": "markdown",
   "metadata": {},
   "source": [
    "## 2"
   ]
  },
  {
   "cell_type": "code",
   "execution_count": null,
   "metadata": {},
   "outputs": [],
   "source": [
    "vowels = {'a', 'e', 'i', 'o', 'u', 'y'}\n",
    "name = input()\n",
    "first = [val in vowels for val in name[::2]]\n",
    "second = [val in vowels for val in name[1::2]]\n",
    "if (sum(first) == len(first) and sum(second) == 0) or (sum(second) == len(second) and sum(first) == 0):\n",
    "    print('YES')\n",
    "else:\n",
    "    print('NO')"
   ]
  },
  {
   "cell_type": "markdown",
   "metadata": {},
   "source": [
    "## 3"
   ]
  },
  {
   "cell_type": "code",
   "execution_count": null,
   "metadata": {},
   "outputs": [],
   "source": [
    "a, b, c, t = [int(val) for val in input().split()]\n",
    "answer = [t // (b * c) % a, t // c % b, t % c]\n",
    "print(' '.join([str(val) for val in answer]))"
   ]
  },
  {
   "cell_type": "markdown",
   "metadata": {},
   "source": [
    "## 4"
   ]
  },
  {
   "cell_type": "code",
   "execution_count": 53,
   "metadata": {},
   "outputs": [
    {
     "name": "stdout",
     "output_type": "stream",
     "text": [
      "8 3 5\n",
      "19\n",
      "CPU times: user 13 ms, sys: 5.47 ms, total: 18.5 ms\n",
      "Wall time: 1.73 s\n"
     ]
    }
   ],
   "source": [
    "def box_cost(start, end):\n",
    "    count = end - start\n",
    "    return (val_max - val_min) * count ** 2 + k\n",
    "\n",
    "\n",
    "n, m, k = [int(val) for val in input().split()]\n",
    "array = []\n",
    "for _ in range(n):\n",
    "    array.append(int(input()))\n",
    "\n",
    "d = [0] * n\n",
    "d[0] = k\n",
    "for i in range(1, n):\n",
    "    d[i] = float('inf')\n",
    "    val_min = val_max = array[i]\n",
    "    for j in range(i-1, i-1-m, -1):\n",
    "        if j < -1: continue\n",
    "        val_min = min(val_min, array[j+1])\n",
    "        val_max = max(val_max, array[j+1])\n",
    "        cost_i = (j!=-1) * d[j]  + box_cost(j+1, i+1)\n",
    "        if cost_i < d[i]:\n",
    "            d[i] = cost_i\n",
    "\n",
    "print(d[-1])"
   ]
  },
  {
   "cell_type": "markdown",
   "metadata": {},
   "source": [
    "## 5"
   ]
  },
  {
   "cell_type": "code",
   "execution_count": 17,
   "metadata": {},
   "outputs": [],
   "source": [
    "n = int(input())\n",
    "a = [int(val) for val in input().split()]\n",
    "d = [0] * n\n",
    "stek = []\n",
    "for j in range(n):\n",
    "    if d[j] == 0:\n",
    "        ind = j\n",
    "        while True:\n",
    "            next_ind = 0\n",
    "            for i in range(ind+1, n):\n",
    "                if a[ind] <= a[i]:\n",
    "                    next_ind = i\n",
    "                    break\n",
    "            if next_ind:\n",
    "                stek.append(ind)\n",
    "                ind = next_ind\n",
    "                continue\n",
    "            else:\n",
    "                d[ind] = 1\n",
    "                while stek:\n",
    "                    previous_ind = stek.pop()\n",
    "                    d[previous_ind] = d[ind] + 1\n",
    "                    ind = previous_ind\n",
    "                break\n",
    "\n",
    "print(*d)"
   ]
  },
  {
   "cell_type": "markdown",
   "metadata": {},
   "source": [
    "## 6"
   ]
  },
  {
   "cell_type": "code",
   "execution_count": 23,
   "metadata": {
    "scrolled": true
   },
   "outputs": [],
   "source": [
    "from collections import Counter\n",
    "\n",
    "def less(array_count, t, n):\n",
    "    S = 0\n",
    "    for val in array_count:\n",
    "        a_i, count = val\n",
    "        i = t // a_i\n",
    "        S += (t // (2 * a_i) + t // a_i % 2) * count\n",
    "        if S >= n:\n",
    "            return False\n",
    "    return True\n",
    "        \n",
    "    \n",
    "n, m = list(map(int, input().split()))\n",
    "array = list(map(int, input().split()))\n",
    "\n",
    "array_count = Counter()\n",
    "for val in array:\n",
    "    array_count[val] += 1\n",
    "array_count = sorted(array_count.items(), key=lambda x: (x[0], -x[1]))    \n",
    "\n",
    "l = 0\n",
    "r = max(array) * n * 2\n",
    "\n",
    "while r - l > 1:\n",
    "    mid = (r + l) // 2\n",
    "    print(l, mid, r)\n",
    "    if less(array_count, mid, n):\n",
    "        l = mid\n",
    "    else:\n",
    "        r = mid\n",
    "        \n",
    "print(r)"
   ]
  },
  {
   "cell_type": "markdown",
   "metadata": {},
   "source": [
    "## Алгосы"
   ]
  },
  {
   "cell_type": "code",
   "execution_count": 24,
   "metadata": {},
   "outputs": [],
   "source": [
    "from collections import defaultdict"
   ]
  },
  {
   "cell_type": "code",
   "execution_count": 123,
   "metadata": {},
   "outputs": [
    {
     "name": "stdout",
     "output_type": "stream",
     "text": [
      "6 6\n",
      "1 6\n"
     ]
    }
   ],
   "source": [
    "n, m = list(map(int, input().split()))\n",
    "s, t = list(map(int, input().split()))\n"
   ]
  },
  {
   "cell_type": "code",
   "execution_count": 98,
   "metadata": {},
   "outputs": [],
   "source": []
  },
  {
   "cell_type": "code",
   "execution_count": 144,
   "metadata": {},
   "outputs": [
    {
     "name": "stdout",
     "output_type": "stream",
     "text": [
      "1 2 1\n",
      "2 3 1\n",
      "3 4 1\n",
      "4 5 1\n",
      "5 6 1\n",
      "3 5 1\n"
     ]
    }
   ],
   "source": [
    "w = defaultdict(list)\n",
    "weight = {}\n",
    "for i in range(m):\n",
    "    u, v, w_i = list(map(int, input().split()))\n",
    "    weight[u-1, v-1] = w_i\n",
    "    weight[v-1, u-1] = w_i\n",
    "    w[u-1].append(v-1)\n",
    "    w[v-1].append(u-1)"
   ]
  },
  {
   "cell_type": "code",
   "execution_count": 145,
   "metadata": {},
   "outputs": [],
   "source": [
    "s = 1\n",
    "t = 6"
   ]
  },
  {
   "cell_type": "code",
   "execution_count": 105,
   "metadata": {},
   "outputs": [
    {
     "data": {
      "text/plain": [
       "defaultdict(list, {0: [1, 3], 1: [0, 2], 2: [1, 3], 3: [2, 0]})"
      ]
     },
     "execution_count": 105,
     "metadata": {},
     "output_type": "execute_result"
    }
   ],
   "source": [
    "# 4 4\n",
    "# 1 3\n",
    "# 1 2 1\n",
    "# 2 3 2\n",
    "# 3 4 5\n",
    "# 4 1 4\n",
    "\n",
    "w"
   ]
  },
  {
   "cell_type": "code",
   "execution_count": 142,
   "metadata": {},
   "outputs": [],
   "source": [
    "s = 1\n",
    "t = 1"
   ]
  },
  {
   "cell_type": "code",
   "execution_count": 146,
   "metadata": {},
   "outputs": [
    {
     "name": "stdout",
     "output_type": "stream",
     "text": [
      "5\n",
      "1 2 3 5 6\n"
     ]
    }
   ],
   "source": [
    "INF = float('inf')\n",
    "dist = [INF] * n\n",
    "dist[s-1] = 0\n",
    "prev = [None] * n\n",
    "used = [False] * n\n",
    "min_dist = 0\n",
    "min_vertex = s - 1\n",
    "while min_dist < INF:\n",
    "    i = min_vertex\n",
    "#     print(i)\n",
    "    used[i] = True\n",
    "    for j in w[i]:\n",
    "        if dist[i] + weight[i, j] < dist[j]:\n",
    "            dist[j] = dist[i] + weight[i, j] \n",
    "            prev[j] = i\n",
    "    min_dist = INF\n",
    "    for i in range(n): \n",
    "        if not used[i] and dist[i] < min_dist: \n",
    "            min_dist = dist[i] \n",
    "            min_vertex = i\n",
    "\n",
    "        \n",
    "path = []\n",
    "j = t - 1\n",
    "while j is not None:\n",
    "    path.append(j) \n",
    "    j = prev[j] \n",
    "path = path[::-1]\n",
    "path = [val+1 for val in path]\n",
    "if len(path) == 1:\n",
    "    print(-1)\n",
    "else:\n",
    "    print(len(path))\n",
    "    print(*path)"
   ]
  },
  {
   "cell_type": "code",
   "execution_count": 130,
   "metadata": {},
   "outputs": [
    {
     "data": {
      "text/plain": [
       "[None, 0, 0, None, None, None]"
      ]
     },
     "execution_count": 130,
     "metadata": {},
     "output_type": "execute_result"
    }
   ],
   "source": [
    "prev"
   ]
  },
  {
   "cell_type": "code",
   "execution_count": 120,
   "metadata": {},
   "outputs": [
    {
     "data": {
      "text/plain": [
       "[None, 0, 1, 0, None, None]"
      ]
     },
     "execution_count": 120,
     "metadata": {},
     "output_type": "execute_result"
    }
   ],
   "source": [
    "from collections import defaultdict\n",
    "\n",
    "n, m = list(map(int, input().split()))\n",
    "s, t = list(map(int, input().split()))\n",
    "\n",
    "\n",
    "\n",
    "w = defaultdict(list)\n",
    "weight = {}\n",
    "for i in range(m):\n",
    "    u, v, w_i = list(map(int, input().split()))\n",
    "    weight[u-1, v-1] = w_i\n",
    "    weight[v-1, u-1] = w_i\n",
    "    w[u-1].append(v-1)\n",
    "    w[v-1].append(u-1)\n",
    "\n",
    "INF = float('inf')\n",
    "dist = [INF] * n\n",
    "dist[s-1] = 0\n",
    "prev = [None] * n\n",
    "used = [False] * n\n",
    "min_dist = 0\n",
    "min_vertex = s - 1\n",
    "while min_dist < INF:\n",
    "    i = min_vertex\n",
    "#     print(i)\n",
    "    used[i] = True\n",
    "    for j in w[i]:\n",
    "        if dist[i] + weight[i, j] < dist[j]:\n",
    "            dist[j] = dist[i] + weight[i, j] \n",
    "            prev[j] = i\n",
    "    min_dist = INF\n",
    "    for i in range(n): \n",
    "        if not used[i] and dist[i] < min_dist: \n",
    "            min_dist = dist[i] \n",
    "            min_vertex = i\n",
    "\n",
    "        \n",
    "path = []\n",
    "j = t - 1\n",
    "while j is not None:\n",
    "    path.append(j) \n",
    "    j = prev[j] \n",
    "path = path[::-1]\n",
    "path = [val+1 for val in path]\n",
    "if len(path) == 1:\n",
    "    print(-1)\n",
    "else:\n",
    "    print(len(path))\n",
    "    print(*path)"
   ]
  }
 ],
 "metadata": {
  "kernelspec": {
   "display_name": "Python 3",
   "language": "python",
   "name": "python3"
  },
  "language_info": {
   "codemirror_mode": {
    "name": "ipython",
    "version": 3
   },
   "file_extension": ".py",
   "mimetype": "text/x-python",
   "name": "python",
   "nbconvert_exporter": "python",
   "pygments_lexer": "ipython3",
   "version": "3.7.6"
  }
 },
 "nbformat": 4,
 "nbformat_minor": 4
}
